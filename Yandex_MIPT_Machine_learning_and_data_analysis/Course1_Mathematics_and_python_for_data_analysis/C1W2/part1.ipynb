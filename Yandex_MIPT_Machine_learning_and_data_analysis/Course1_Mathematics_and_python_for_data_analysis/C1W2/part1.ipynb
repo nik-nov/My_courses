{
 "cells": [
  {
   "cell_type": "markdown",
   "metadata": {},
   "source": [
    "# Задача 1: сравнение предложений\n",
    "Дан набор предложений, скопированных с Википедии. Каждое из них имеет \"кошачью тему\" в одном из трех смыслов:\n",
    "\n",
    "    кошки (животные)\n",
    "    UNIX-утилита cat для вывода содержимого файлов\n",
    "    версии операционной системы OS X, названные в честь семейства кошачьих\n",
    "\n",
    "Ваша задача — найти два предложения, которые ближе всего по смыслу к расположенному в самой первой строке. В качестве меры близости по смыслу мы будем использовать косинусное расстояние."
   ]
  },
  {
   "cell_type": "code",
   "execution_count": 1,
   "metadata": {},
   "outputs": [],
   "source": [
    "# импортируем необходимые библиотеки\n",
    "import numpy as np\n",
    "import re"
   ]
  },
  {
   "cell_type": "markdown",
   "metadata": {},
   "source": [
    "## 1. Каждая строка в файле соответствует одному предложению. Считайте их, приведите каждую к нижнему регистру."
   ]
  },
  {
   "cell_type": "code",
   "execution_count": 2,
   "metadata": {
    "scrolled": false
   },
   "outputs": [
    {
     "name": "stdout",
     "output_type": "stream",
     "text": [
      "['', 'left', 'piped', 'made', 'intel'] 255\n"
     ]
    }
   ],
   "source": [
    "# открываем файл\n",
    "with open('sentences.txt', 'r') as file:   \n",
    "    # считываем текст и приводим к нижнему регистру\n",
    "    string = file.read().lower()  \n",
    "    # создаем черновой список из слов\n",
    "    items_tmp = re.split('[^a-z]', string)    \n",
    "# с помощью множества удаляем дубликаты из очищенного списка\n",
    "unique_words = list(set(items_tmp))\n",
    "# контрольный вывод на печать \n",
    "print(unique_words[:5], len(unique_words))"
   ]
  },
  {
   "cell_type": "code",
   "execution_count": 3,
   "metadata": {},
   "outputs": [
    {
     "name": "stdout",
     "output_type": "stream",
     "text": [
      "['in comparison to dogs cats have not undergone major changes during the domestication process', 'as cat simply catenates streams of bytes it can be also used to concatenate binary files where it will just concatenate sequence of bytes', 'a common interactive use of cat for a single file is to output the content of a file to standard output', 'cats can hear sounds too faint or too high in frequency for human ears such as those made by mice and other small animals', 'in one people deliberately tamed cats in a process of artificial selection as they were useful predators of vermin', 'the domesticated cat and its closest wild ancestor are both diploid organisms that possess 38 chromosomes and roughly 20000 genes', 'domestic cats are similar in size to the other members of the genus felis typically weighing between 4 and 5 kg 88 and 110 lb', 'however if the output is piped or redirected cat is unnecessary', 'cat with one named file is safer where human error is a concern  one wrong use of the default redirection symbol  instead of  often adjacent on keyboards may permanently delete the file you were just needing to read', 'in terms of legibility a sequence of commands starting with cat and connected by pipes has a clear lefttoright flow of information', 'cat command is one of the basic commands that you learned when you started in the unix  linux world', 'using cat command the lines received from stdin can be redirected to a new file using redirection symbols', 'when you type simply cat command without any arguments it just receives the stdin content and displays it in the stdout', 'leopard was released on october 26 2007 as the successor of tiger version 104 and is available in two editions', 'according to apple leopard contains over 300 changes and enhancements over its predecessor mac os x tiger', 'as of mid 2010 some apple computers have firmware factory installed which will no longer allow installation of mac os x leopard', 'since apple moved to using intel processors in their computers the osx86 community has developed and now also allows mac os x tiger and later releases to be installed on nonapple x86based computers', 'os x mountain lion was released on july 25 2012 for purchase and download through apples mac app store as part of a switch to releasing os x versions online and every year', 'apple has released a small patch for the three most recent versions of safari running on os x yosemite mavericks and mountain lion', 'the mountain lion release marks the second time apple has offered an incremental upgrade rather than releasing a new cat entirely', 'mac os x mountain lion installs in place so you wont need to create a separate disk or run the installation off an external drive', 'the fifth major update to mac os x leopard contains such a mountain of features  more than 300 by apples count'] 22\n"
     ]
    }
   ],
   "source": [
    "# открываем файл\n",
    "with open('sentences.txt', 'r') as file:  \n",
    "    # создаем список с предложениями\n",
    "    sentences = [] \n",
    "    # цикл перебирающий каждое слово из файла\n",
    "    for line in file: \n",
    "        # удаляем из каждой строки всё кроме цифр, букв и пробелов\n",
    "        line_list_tmp = re.sub(r'[^\\w\\s]', '' ,line.lower()) \n",
    "        # создаем список из строк, разделяем по символу конца строки. Получаем список предложений\n",
    "        line_list_tmp = re.split(r'\\n', line_list_tmp) \n",
    "        # очищаем созданный список от пустых ('') значений\n",
    "        line_list = [sentences for sentences in line_list_tmp if sentences != ''] \n",
    "        sentences += line_list\n",
    "# контрольный вывод на печать\n",
    "print(sentences, len(sentences))"
   ]
  },
  {
   "cell_type": "markdown",
   "metadata": {},
   "source": [
    "## 2. Составьте список всех слов, встречающихся в предложениях. Сопоставьте каждому слову индекс от нуля до (d - 1), где d — число различных слов в предложениях\n"
   ]
  },
  {
   "cell_type": "code",
   "execution_count": 4,
   "metadata": {},
   "outputs": [
    {
     "name": "stdout",
     "output_type": "stream",
     "text": [
      "{0: '', 1: 'left', 2: 'piped', 3: 'made', 4: 'intel', 5: 'type', 6: 'separate', 7: 'of', 8: 'installation', 9: 'you', 10: 'place', 11: 'drive', 12: 'roughly', 13: 'os', 14: 'developed', 15: 'most', 16: 'tiger', 17: 'weighing', 18: 'learned', 19: 'wild', 20: 'linux', 21: 'between', 22: 'flow', 23: 'streams', 24: 'domesticated', 25: 'firmware', 26: 'not', 27: 'files', 28: 'community', 29: 'computers', 30: 'run', 31: 'binary', 32: 'domestication', 33: 'useful', 34: 'during', 35: 'yosemite', 36: 'the', 37: 'now', 38: 'osx', 39: 'or', 40: 'moved', 41: 'without', 42: 'concern', 43: 'file', 44: 'catenates', 45: 'displays', 46: 'based', 47: 'marks', 48: 'concatenate', 49: 'information', 50: 'allow', 51: 'arguments', 52: 'disk', 53: 'predecessor', 54: 'small', 55: 'simply', 56: 'later', 57: 'as', 58: 'output', 59: 'will', 60: 'hear', 61: 'versions', 62: 'vermin', 63: 'recent', 64: 'one', 65: 'possess', 66: 'editions', 67: 'incremental', 68: 'safari', 69: 'process', 70: 'version', 71: 'no', 72: 'lines', 73: 'symbol', 74: 'organisms', 75: 'human', 76: 'for', 77: 'count', 78: 'from', 79: 'features', 80: 'patch', 81: 'connected', 82: 'other', 83: 'have', 84: 'cat', 85: 'releases', 86: 'release', 87: 'unnecessary', 88: 'their', 89: 'common', 90: 'part', 91: 'fifth', 92: 'be', 93: 'that', 94: 'received', 95: 'create', 96: 'single', 97: 'using', 98: 'installed', 99: 'non', 100: 'kg', 101: 'domestic', 102: 'mice', 103: 'it', 104: 'second', 105: 'allows', 106: 'rather', 107: 'starting', 108: 'default', 109: 'new', 110: 'sequence', 111: 'on', 112: 'those', 113: 'error', 114: 'just', 115: 'according', 116: 'wrong', 117: 'are', 118: 'high', 119: 'undergone', 120: 'dogs', 121: 'faint', 122: 'external', 123: 'too', 124: 'receives', 125: 'when', 126: 'by', 127: 'mavericks', 128: 'and', 129: 'closest', 130: 'mountain', 131: 'releasing', 132: 'right', 133: 'entirely', 134: 'started', 135: 'in', 136: 'needing', 137: 'chromosomes', 138: 'available', 139: 'time', 140: 'keyboards', 141: 'processors', 142: 'offered', 143: 'which', 144: 'july', 145: 'clear', 146: 'purchase', 147: 'comparison', 148: 'every', 149: 'mac', 150: 'often', 151: 'changes', 152: 'genes', 153: 'has', 154: 'running', 155: 'may', 156: 'standard', 157: 'deliberately', 158: 'enhancements', 159: 't', 160: 'command', 161: 'selection', 162: 'use', 163: 'released', 164: 'similar', 165: 'since', 166: 'through', 167: 'unix', 168: 'redirection', 169: 'felis', 170: 'world', 171: 'terms', 172: 'factory', 173: 'lb', 174: 'download', 175: 'artificial', 176: 'longer', 177: 'cats', 178: 'over', 179: 'members', 180: 's', 181: 'people', 182: 'year', 183: 'won', 184: 'tamed', 185: 'were', 186: 'with', 187: 'leopard', 188: 'some', 189: 'genus', 190: 'store', 191: 'interactive', 192: 'more', 193: 'to', 194: 'safer', 195: 'named', 196: 'major', 197: 'used', 198: 'x', 199: 'any', 200: 'installs', 201: 'they', 202: 'permanently', 203: 'where', 204: 'commands', 205: 'such', 206: 'also', 207: 'size', 208: 'redirected', 209: 'its', 210: 'two', 211: 'typically', 212: 'bytes', 213: 'successor', 214: 'apple', 215: 'symbols', 216: 'app', 217: 'so', 218: 'sounds', 219: 'was', 220: 'october', 221: 'legibility', 222: 'lion', 223: 'basic', 224: 'adjacent', 225: 'ancestor', 226: 'delete', 227: 'stdout', 228: 'contains', 229: 'update', 230: 'content', 231: 'can', 232: 'switch', 233: 'frequency', 234: 'however', 235: 'off', 236: 'an', 237: 'upgrade', 238: 'read', 239: 'both', 240: 'predators', 241: 'ears', 242: 'need', 243: 'if', 244: 'mid', 245: 'instead', 246: 'pipes', 247: 'a', 248: 'animals', 249: 'online', 250: 'three', 251: 'diploid', 252: 'than', 253: 'is', 254: 'stdin'} 255\n"
     ]
    }
   ],
   "source": [
    "# создаем временный, пустой список\n",
    "list_tmp = [] \n",
    "# счетчик кол-ва слов в списке (используется для присвоения ключа значению)\n",
    "counter = 0  \n",
    "# цикл перебирающий каждое слово из списка уникальных слов\n",
    "for word in unique_words: \n",
    "    # добавляем в пустой список будущую пару ключ-значение\n",
    "    list_tmp.append([counter, word]) \n",
    "    # изменяем значение счетчика после каждой итерации\n",
    "    counter += 1 \n",
    "# преобразуем список в словарь\n",
    "dict_words = dict(list_tmp) \n",
    "# контрольный вывод на печать\n",
    "print(dict_words, len(dict_words))"
   ]
  },
  {
   "cell_type": "markdown",
   "metadata": {},
   "source": [
    "## 3. Создайте матрицу размера n * d, где n — число предложений. Заполните ее: элемент с индексом (i, j) в этой матрице должен быть равен количеству вхождений j-го слова в i-е предложение. "
   ]
  },
  {
   "cell_type": "code",
   "execution_count": 5,
   "metadata": {},
   "outputs": [
    {
     "name": "stdout",
     "output_type": "stream",
     "text": [
      "(22, 254)\n",
      "[0 0 0 0 0 0 0 0 0 0 0 0 0 0 0 0 0 0 0 0 0 0 0 0 0 0 1 0 0 0 0 0 1 0 1 0 1\n",
      " 0 0 0 0 0 0 0 0 0 0 0 0 0 0 0 0 0 0 0 0 0 0 0 0 0 0 0 0 0 0 0 0 1 0 0 0 0\n",
      " 0 0 0 0 0 0 0 0 0 1 0 0 0 0 0 0 0 0 0 0 0 0 0 0 0 0 0 0 0 0 0 0 0 0 0 0 0\n",
      " 0 0 0 0 0 0 0 0 1 1 0 0 0 0 0 0 0 0 0 0 0 0 0 0 1 0 0 0 0 0 0 0 0 0 0 0 1\n",
      " 0 0 0 1 0 0 0 0 0 0 0 0 0 0 0 0 0 0 0 0 0 0 0 0 0 0 0 0 0 1 0 0 0 0 0 0 0\n",
      " 0 0 0 0 0 0 0 0 1 0 0 1 0 0 0 0 0 0 0 0 0 0 0 0 0 0 0 0 0 0 0 0 0 0 0 0 0\n",
      " 0 0 0 0 0 0 0 0 0 0 0 0 0 0 0 0 0 0 0 0 0 0 0 0 0 0 0 0 0 0 0 0]\n"
     ]
    }
   ],
   "source": [
    "# кол-во предложений\n",
    "n = len(sentences) \n",
    "# кол-во уникальных слов (-1, не учитываем пустое значение в dict_words)\n",
    "d = len(dict_words) - 1\n",
    "# создаем 0 матрицу размером n на d\n",
    "word_matrix = np.zeros((n,d), dtype=int) \n",
    "for i in range(n): \n",
    "    for j in range(d):\n",
    "        # элемент матрицы (i, j) равен количеству вхождений j-го слова в i-е предложение\n",
    "        word_matrix[i][j] = sentences[i].split(' ').count(dict_words[j]) \n",
    "# контроль размера\n",
    "print(word_matrix.shape) \n",
    "# первое предложение для примера\n",
    "print(word_matrix[0]) \n"
   ]
  },
  {
   "cell_type": "markdown",
   "metadata": {},
   "source": [
    "## 4. Найдите косинусное расстояние от предложения в самой первой строке (In comparison to dogs, cats have not undergone...) до всех остальных с помощью функции scipy.spatial.distance.cosine. Какие номера у двух предложений, ближайших к нему по этому расстоянию (строки нумеруются с нуля)? Эти два числа и будут ответами на задание."
   ]
  },
  {
   "cell_type": "code",
   "execution_count": 6,
   "metadata": {},
   "outputs": [
    {
     "name": "stdout",
     "output_type": "stream",
     "text": [
      "6 4\n"
     ]
    }
   ],
   "source": [
    "from scipy.spatial import distance\n",
    "# создаем пустой список для записи значений\n",
    "cos_matrix = [] \n",
    "# цикл перебора от 0 до i - го элемента\n",
    "for i in range(n):  \n",
    "    # добавляем в список значение косинусного расстояния от 0 до i - го элемента \n",
    "    cos_matrix.append(distance.cosine(word_matrix[0], word_matrix[i])) \n",
    "# создаем список результатов вида [кос. расстояние - номер предложения]\n",
    "result = [] \n",
    "# счетчик предложений\n",
    "counter = 0 \n",
    "# цикл перебирающий каждое значение кос. расстояния\n",
    "for i in cos_matrix: \n",
    "    # добавляем в список пару: кос. расстояние - номер предложения\n",
    "    result.append([i, counter]) \n",
    "    counter += 1\n",
    "# перобразуем список в словарь\n",
    "result = dict(result) \n",
    "# сортируем список с кос. росстояниями по возрастанию \n",
    "list_keys = sorted(cos_matrix) \n",
    "write_string = ''\n",
    "# цикл для добавления номера предложения в строку ответа \n",
    "for i in list_keys[1:3]: \n",
    "    write_string += str(result[i])\n",
    "#запись ответа в файл\n",
    "with open('answer1.txt', 'w') as output_file: \n",
    "    output_file.write(' '.join(write_string))\n",
    "# вывод на печать ответа\n",
    "print(' '.join(write_string))"
   ]
  },
  {
   "cell_type": "code",
   "execution_count": null,
   "metadata": {},
   "outputs": [],
   "source": []
  }
 ],
 "metadata": {
  "kernelspec": {
   "display_name": "Python 3",
   "language": "python",
   "name": "python3"
  },
  "language_info": {
   "codemirror_mode": {
    "name": "ipython",
    "version": 3
   },
   "file_extension": ".py",
   "mimetype": "text/x-python",
   "name": "python",
   "nbconvert_exporter": "python",
   "pygments_lexer": "ipython3",
   "version": "3.8.5"
  }
 },
 "nbformat": 4,
 "nbformat_minor": 4
}
