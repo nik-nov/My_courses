{
 "cells": [
  {
   "cell_type": "markdown",
   "metadata": {},
   "source": [
    "# Размещение баннеров\n",
    "Представим, что международное круизное агентство Carnival Cruise Line решило себя разрекламировать с помощью баннеров и обратилось для этого к вам. Чтобы протестировать, велика ли от таких баннеров польза, их будет размещено всего 20 штук по всему миру. Вам надо выбрать 20 таких локаций для размещения, чтобы польза была большой и агентство продолжило с вами сотрудничать.\n",
    "\n",
    "Агентство крупное, и у него есть несколько офисов по всему миру. Вблизи этих офисов оно и хочет разместить баннеры — легче договариваться и проверять результат. Также эти места должны быть популярны среди туристов.\n",
    "\n",
    "Для поиска оптимальных мест воспользуемся базой данных крупнейшей социальной сети, основанной на локациях — Foursquare.\n",
    "\n",
    "Часть открытых данных есть, например, на сайте archive.org:\n",
    "\n",
    "https://archive.org/details/201309_foursquare_dataset_umn"
   ]
  },
  {
   "cell_type": "code",
   "execution_count": 52,
   "metadata": {},
   "outputs": [],
   "source": [
    "import pandas as pd\n",
    "import numpy as np\n",
    "from sklearn.cluster import MeanShift"
   ]
  },
  {
   "cell_type": "code",
   "execution_count": 47,
   "metadata": {},
   "outputs": [
    {
     "name": "stderr",
     "output_type": "stream",
     "text": [
      "/home/joosja/.local/lib/python3.8/site-packages/IPython/core/interactiveshell.py:3146: DtypeWarning: Columns (0) have mixed types.Specify dtype option on import or set low_memory=False.\n",
      "  has_raised = await self.run_ast_nodes(code_ast.body, cell_name,\n"
     ]
    },
    {
     "data": {
      "text/html": [
       "<div>\n",
       "<style scoped>\n",
       "    .dataframe tbody tr th:only-of-type {\n",
       "        vertical-align: middle;\n",
       "    }\n",
       "\n",
       "    .dataframe tbody tr th {\n",
       "        vertical-align: top;\n",
       "    }\n",
       "\n",
       "    .dataframe thead th {\n",
       "        text-align: right;\n",
       "    }\n",
       "</style>\n",
       "<table border=\"1\" class=\"dataframe\">\n",
       "  <thead>\n",
       "    <tr style=\"text-align: right;\">\n",
       "      <th></th>\n",
       "      <th>user_id</th>\n",
       "      <th>venue_id</th>\n",
       "      <th>latitude</th>\n",
       "      <th>longitude</th>\n",
       "      <th>created_at</th>\n",
       "    </tr>\n",
       "    <tr>\n",
       "      <th>id</th>\n",
       "      <th></th>\n",
       "      <th></th>\n",
       "      <th></th>\n",
       "      <th></th>\n",
       "      <th></th>\n",
       "    </tr>\n",
       "  </thead>\n",
       "  <tbody>\n",
       "    <tr>\n",
       "      <th>984301</th>\n",
       "      <td>2041916.0</td>\n",
       "      <td>5222.0</td>\n",
       "      <td>NaN</td>\n",
       "      <td>NaN</td>\n",
       "      <td>2012-04-21 17:39:01</td>\n",
       "    </tr>\n",
       "    <tr>\n",
       "      <th>984222</th>\n",
       "      <td>15824.0</td>\n",
       "      <td>5222.0</td>\n",
       "      <td>38.895112</td>\n",
       "      <td>-77.036366</td>\n",
       "      <td>2012-04-21 17:43:47</td>\n",
       "    </tr>\n",
       "    <tr>\n",
       "      <th>984315</th>\n",
       "      <td>1764391.0</td>\n",
       "      <td>5222.0</td>\n",
       "      <td>NaN</td>\n",
       "      <td>NaN</td>\n",
       "      <td>2012-04-21 17:37:18</td>\n",
       "    </tr>\n",
       "    <tr>\n",
       "      <th>984234</th>\n",
       "      <td>44652.0</td>\n",
       "      <td>5222.0</td>\n",
       "      <td>33.800745</td>\n",
       "      <td>-84.410520</td>\n",
       "      <td>2012-04-21 17:43:43</td>\n",
       "    </tr>\n",
       "    <tr>\n",
       "      <th>984249</th>\n",
       "      <td>2146840.0</td>\n",
       "      <td>5222.0</td>\n",
       "      <td>NaN</td>\n",
       "      <td>NaN</td>\n",
       "      <td>2012-04-21 17:42:58</td>\n",
       "    </tr>\n",
       "  </tbody>\n",
       "</table>\n",
       "</div>"
      ],
      "text/plain": [
       "         user_id   venue_id   latitude        longitude       \\\n",
       "id                                                             \n",
       "984301  2041916.0     5222.0             NaN             NaN   \n",
       "984222    15824.0     5222.0       38.895112      -77.036366   \n",
       "984315  1764391.0     5222.0             NaN             NaN   \n",
       "984234    44652.0     5222.0       33.800745      -84.410520   \n",
       "984249  2146840.0     5222.0             NaN             NaN   \n",
       "\n",
       "           created_at        \n",
       "id                           \n",
       "984301  2012-04-21 17:39:01  \n",
       "984222  2012-04-21 17:43:47  \n",
       "984315  2012-04-21 17:37:18  \n",
       "984234  2012-04-21 17:43:43  \n",
       "984249  2012-04-21 17:42:58  "
      ]
     },
     "execution_count": 47,
     "metadata": {},
     "output_type": "execute_result"
    }
   ],
   "source": [
    "df = pd.read_csv('/home/joosja/Загрузки/fsq/umn_foursquare_datasets/checkins.csv', sep='|', skipinitialspace=True, skiprows=[1], index_col=0)\n",
    "df.head()"
   ]
  },
  {
   "cell_type": "code",
   "execution_count": 48,
   "metadata": {},
   "outputs": [
    {
     "data": {
      "text/html": [
       "<div>\n",
       "<style scoped>\n",
       "    .dataframe tbody tr th:only-of-type {\n",
       "        vertical-align: middle;\n",
       "    }\n",
       "\n",
       "    .dataframe tbody tr th {\n",
       "        vertical-align: top;\n",
       "    }\n",
       "\n",
       "    .dataframe thead th {\n",
       "        text-align: right;\n",
       "    }\n",
       "</style>\n",
       "<table border=\"1\" class=\"dataframe\">\n",
       "  <thead>\n",
       "    <tr style=\"text-align: right;\">\n",
       "      <th></th>\n",
       "      <th>latitude</th>\n",
       "      <th>longitude</th>\n",
       "    </tr>\n",
       "    <tr>\n",
       "      <th>id</th>\n",
       "      <th></th>\n",
       "      <th></th>\n",
       "    </tr>\n",
       "  </thead>\n",
       "  <tbody>\n",
       "    <tr>\n",
       "      <th>984222</th>\n",
       "      <td>38.895112</td>\n",
       "      <td>-77.036366</td>\n",
       "    </tr>\n",
       "    <tr>\n",
       "      <th>984234</th>\n",
       "      <td>33.800745</td>\n",
       "      <td>-84.410520</td>\n",
       "    </tr>\n",
       "    <tr>\n",
       "      <th>984291</th>\n",
       "      <td>45.523452</td>\n",
       "      <td>-122.676207</td>\n",
       "    </tr>\n",
       "    <tr>\n",
       "      <th>984318</th>\n",
       "      <td>40.764462</td>\n",
       "      <td>-111.904565</td>\n",
       "    </tr>\n",
       "    <tr>\n",
       "      <th>984232</th>\n",
       "      <td>33.448377</td>\n",
       "      <td>-112.074037</td>\n",
       "    </tr>\n",
       "  </tbody>\n",
       "</table>\n",
       "</div>"
      ],
      "text/plain": [
       "         latitude   longitude\n",
       "id                           \n",
       "984222  38.895112  -77.036366\n",
       "984234  33.800745  -84.410520\n",
       "984291  45.523452 -122.676207\n",
       "984318  40.764462 -111.904565\n",
       "984232  33.448377 -112.074037"
      ]
     },
     "execution_count": 48,
     "metadata": {},
     "output_type": "execute_result"
    }
   ],
   "source": [
    "df.columns = [column.strip() for column in df.columns]\n",
    "df.dropna(inplace=True)\n",
    "df.drop(['user_id', 'venue_id', 'created_at'], axis=1, inplace=True)\n",
    "df.head()"
   ]
  },
  {
   "cell_type": "code",
   "execution_count": 62,
   "metadata": {},
   "outputs": [
    {
     "name": "stdout",
     "output_type": "stream",
     "text": [
      "<class 'pandas.core.frame.DataFrame'>\n",
      "Index: 100000 entries, 984222 to 127284\n",
      "Data columns (total 3 columns):\n",
      " #   Column     Non-Null Count   Dtype  \n",
      "---  ------     --------------   -----  \n",
      " 0   latitude   100000 non-null  float64\n",
      " 1   longitude  100000 non-null  float64\n",
      " 2   cluster    100000 non-null  int64  \n",
      "dtypes: float64(2), int64(1)\n",
      "memory usage: 3.1+ MB\n"
     ]
    }
   ],
   "source": [
    "df = df.iloc[:100000]\n",
    "df.info()"
   ]
  },
  {
   "cell_type": "markdown",
   "metadata": {},
   "source": [
    "Теперь необходимо кластеризовать данные координаты, чтобы выявить центры скоплений туристов. Поскольку баннеры имеют сравнительно небольшую площадь действия, нам нужен алгоритм, позволяющий ограничить размер кластера и не зависящий от количества кластеров."
   ]
  },
  {
   "cell_type": "code",
   "execution_count": 76,
   "metadata": {},
   "outputs": [
    {
     "name": "stdout",
     "output_type": "stream",
     "text": [
      "CPU times: user 15.7 s, sys: 3.6 s, total: 19.3 s\n",
      "Wall time: 1min 14s\n"
     ]
    },
    {
     "data": {
      "text/plain": [
       "MeanShift(bandwidth=0.1, n_jobs=-1)"
      ]
     },
     "execution_count": 76,
     "metadata": {},
     "output_type": "execute_result"
    }
   ],
   "source": [
    "%%time\n",
    "MS = MeanShift(bandwidth = 0.1, n_jobs=-1)\n",
    "MS.fit(df)"
   ]
  },
  {
   "cell_type": "code",
   "execution_count": 88,
   "metadata": {},
   "outputs": [
    {
     "name": "stdout",
     "output_type": "stream",
     "text": [
      "[[ 4.07176807e+01 -7.39919008e+01  0.00000000e+00]\n",
      " [ 3.34484105e+01 -1.12074004e+02  1.00000000e+00]\n",
      " [ 3.34512309e+01 -1.11917520e+02  2.00000000e+00]\n",
      " ...\n",
      " [-3.78229826e+01  1.45181190e+02  3.38700000e+03]\n",
      " [-4.12924945e+01  1.74773235e+02  3.38800000e+03]\n",
      " [-4.50311622e+01  1.68662644e+02  3.38900000e+03]]\n"
     ]
    }
   ],
   "source": [
    "labels = MS.labels_\n",
    "cluster_centers = MS.cluster_centers_"
   ]
  },
  {
   "cell_type": "code",
   "execution_count": 89,
   "metadata": {},
   "outputs": [],
   "source": [
    "labels_unique = np.unique(labels)\n",
    "n_clusters_ = len(labels_unique)"
   ]
  },
  {
   "cell_type": "code",
   "execution_count": 94,
   "metadata": {},
   "outputs": [],
   "source": [
    "counts = dict()\n",
    "for i in range(len(labels)):\n",
    "    if labels[i] in counts:\n",
    "        counts[labels[i]]+=1\n",
    "    else:\n",
    "        counts[labels[i]]=1"
   ]
  },
  {
   "cell_type": "code",
   "execution_count": 97,
   "metadata": {},
   "outputs": [],
   "source": [
    "interesting_labels = [label for label in labels_unique if counts[label]>15]\n",
    "points = [cluster_centers[i] for i in range(len(cluster_centers)) if interesting_labels.count(labels[i])>0]"
   ]
  },
  {
   "cell_type": "code",
   "execution_count": 98,
   "metadata": {},
   "outputs": [],
   "source": [
    "offices = []\n",
    "offices.append([33.751277, -118.188740])\n",
    "offices.append([25.867736, -80.324116])\n",
    "offices.append([51.503016, -0.075479])\n",
    "offices.append([52.378894, 4.885084])\n",
    "offices.append([39.366487, 117.036146])\n",
    "offices.append([-33.868457, 151.205134])"
   ]
  },
  {
   "cell_type": "code",
   "execution_count": 99,
   "metadata": {},
   "outputs": [
    {
     "name": "stderr",
     "output_type": "stream",
     "text": [
      "<ipython-input-99-1580a9d52866>:6: RuntimeWarning: invalid value encountered in sqrt\n",
      "  d = np.sqrt((point[0]-office[0])*2+(point[1]-office[1])*2)\n"
     ]
    }
   ],
   "source": [
    "best_points=[]\n",
    "dist=[]\n",
    "for point in points:\n",
    "    best_dist=1000000\n",
    "    for office in offices:\n",
    "        d = np.sqrt((point[0]-office[0])*2+(point[1]-office[1])*2)\n",
    "        if d<best_dist:\n",
    "            best_dist=d\n",
    "    dist.append(best_dist)\n",
    "\n",
    "dist = np.array(dist)\n",
    "idxs = np.argsort(dist)[:20]"
   ]
  },
  {
   "cell_type": "code",
   "execution_count": 101,
   "metadata": {},
   "outputs": [
    {
     "name": "stdout",
     "output_type": "stream",
     "text": [
      "37.556695,-121.994125\n",
      "34.022722,-118.459223\n",
      "52.372964,4.892317\n",
      "32.793784,-117.227353\n",
      "-33.860630,151.204776\n",
      "34.257607,-88.703386\n",
      "52.921899,-1.475642\n",
      "25.789202,-80.213114\n",
      "37.693034,-122.097845\n",
      "38.232417,-122.636652\n",
      "47.015240,10.293670\n",
      "48.849920,2.637041\n",
      "34.206461,-118.579062\n",
      "38.334893,-122.704326\n",
      "33.805774,-118.155494\n",
      "56.837814,60.596842\n",
      "33.211757,-87.569979\n",
      "10.767549,106.681102\n",
      "27.929377,-82.270639\n",
      "18.796464,98.660059\n"
     ]
    }
   ],
   "source": [
    "points=np.array(points)\n",
    "for point in points[idxs]:\n",
    "    print(\"%f,%f\" % (point[0], point[1]))"
   ]
  },
  {
   "cell_type": "code",
   "execution_count": null,
   "metadata": {},
   "outputs": [],
   "source": []
  }
 ],
 "metadata": {
  "kernelspec": {
   "display_name": "Python 3",
   "language": "python",
   "name": "python3"
  },
  "language_info": {
   "codemirror_mode": {
    "name": "ipython",
    "version": 3
   },
   "file_extension": ".py",
   "mimetype": "text/x-python",
   "name": "python",
   "nbconvert_exporter": "python",
   "pygments_lexer": "ipython3",
   "version": "3.8.5"
  }
 },
 "nbformat": 4,
 "nbformat_minor": 4
}
